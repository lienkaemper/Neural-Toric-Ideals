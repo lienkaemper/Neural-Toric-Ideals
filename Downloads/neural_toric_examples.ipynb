{
 "cells": [
  {
   "cell_type": "markdown",
   "metadata": {
    "collapsed": false
   },
   "source": [
    "Here, we present a variety of functions for working with the toric ideals of neural codes. In this context, the toric ideal of a neural code $\\mathcal C$ is the toric ideal of a matrix whose columns are the (nonzero) codewords of $\\mathcal C$. First, note that Sage can find the toric ideal of a matrix easily:"
   ]
  },
  {
   "cell_type": "code",
   "execution_count": 1,
   "metadata": {
    "collapsed": false
   },
   "outputs": [
    {
     "data": {
      "text/plain": [
       "Ideal (-z4*z6 + z5, -z2*z4 + z3, z0*z2 - z1) of Multivariate Polynomial Ring in z0, z1, z2, z3, z4, z5, z6 over Rational Field"
      ]
     },
     "execution_count": 1,
     "metadata": {
     },
     "output_type": "execute_result"
    }
   ],
   "source": [
    "mat = matrix([[0,0,0,1], [0,0,1,1], [0,0,1,0], [0,1,1,0], [0,1,0,0], [1,1,0,0],[1,0,0,0]]).transpose()\n",
    "ToricIdeal(mat)\n"
   ]
  },
  {
   "cell_type": "markdown",
   "metadata": {
    "collapsed": false
   },
   "source": [
    "The default variable names, $z_1, z_2,\\ldots,z_m $ are not particularly informative, and thanks to a strange bug in the way Sage calls either 4ti2 or GFan, actually cause some errors. Thus, we want to relabel the variables so that they are labeled with the codeword they represent for substantial as well as aesthetic reasons. Here's a function that does that: "
   ]
  },
  {
   "cell_type": "code",
   "execution_count": 2,
   "metadata": {
    "collapsed": false
   },
   "outputs": [
   ],
   "source": [
    "#input: a matrix in which columns are codewords\n",
    "#output: a string specifying variable names yc, where c is the binary number corresponding to a codeword\n",
    "#example:  make_variable_names_from_matrix([1,0]//[0,1]) should return 'y10, y01'\n",
    "def make_variable_names_from_matrix(mat):\n",
    "    names = ''\n",
    "    for col in mat.columns():\n",
    "        name = 'y'\n",
    "        for position in col:\n",
    "            name=name+(str(position))\n",
    "        names=names+name+ ',' \n",
    "    return names[:-1]\n"
   ]
  },
  {
   "cell_type": "code",
   "execution_count": 3,
   "metadata": {
    "collapsed": false
   },
   "outputs": [
    {
     "data": {
      "text/plain": [
       "'y0001,y0011,y0010,y0110,y0100,y1100,y1000'"
      ]
     },
     "execution_count": 3,
     "metadata": {
     },
     "output_type": "execute_result"
    }
   ],
   "source": [
    "make_variable_names_from_matrix(mat)"
   ]
  },
  {
   "cell_type": "code",
   "execution_count": 4,
   "metadata": {
    "collapsed": false
   },
   "outputs": [
    {
     "data": {
      "text/plain": [
       "Ideal (-y0100*y1000 + y1100, -y0010*y0100 + y0110, y0001*y0010 - y0011) of Multivariate Polynomial Ring in y0001, y0011, y0010, y0110, y0100, y1100, y1000 over Rational Field"
      ]
     },
     "execution_count": 4,
     "metadata": {
     },
     "output_type": "execute_result"
    }
   ],
   "source": [
    "ToricIdeal(mat, make_variable_names_from_matrix(mat))"
   ]
  },
  {
   "cell_type": "markdown",
   "metadata": {
    "collapsed": false
   },
   "source": [
    "If we want to investigate toric ideals of inductively pierced neural codes, it is nice to have a way to make a lot of them. Here's code that does this--given $n$, it spits out all inductively 1 pierced codes on $n$ neurons."
   ]
  },
  {
   "cell_type": "code",
   "execution_count": 5,
   "metadata": {
    "collapsed": false
   },
   "outputs": [
   ],
   "source": [
    "#return the list of all inductively pierced codes on n neurons (may have some redundancy)\n",
    "def make_induct_one_pierced(n):\n",
    "    if n==1:\n",
    "        return [[[0],[1]]]\n",
    "    else: \n",
    "        #recursive call to produce a list of all inductively pierced codes on n-1 neurons\n",
    "        smaller_codes=make_induct_one_pierced(n-1)\n",
    "        zero_piercings=[]\n",
    "        one_piercings=[]\n",
    "        #for each code on n-1 neurons, construct each 0 and 1-piercing of the code\n",
    "        for code in smaller_codes:\n",
    "            #make a version of the code with a zero added to the end of every codeword\n",
    "            inflate=[]\n",
    "            for codeword in code:\n",
    "                temp=list(codeword)\n",
    "                temp.append(0)\n",
    "                inflate.append(temp)\n",
    "            #make all 0-piercings--to do this, we should do a zero piercing wrt to each codeword as a background zone\n",
    "            for d in code:\n",
    "                new=list(d)\n",
    "                new.append(1)\n",
    "                newcode=list(inflate)\n",
    "                newcode.append(new)\n",
    "                zero_piercings.append(newcode)\n",
    "            # now, go through all of the n-1 neurons in the code    \n",
    "            for i in range (0, n-1):\n",
    "                chi=[]\n",
    "                pairs=[]\n",
    "                for codeword in code:\n",
    "                    if codeword[i]==1:\n",
    "                        chi.append(codeword)\n",
    "                for codeword in chi:\n",
    "                    partner1=list(codeword)\n",
    "                    partner2=list(codeword)\n",
    "                    partner2[i]=0\n",
    "                    if partner2 in code:\n",
    "                        pairs.append((partner1, partner2))\n",
    "                #find each possible way to pierce that neuron       \n",
    "                for pair in pairs:\n",
    "                    pair[0].append(1)\n",
    "                    pair[1].append(1)\n",
    "                    newcode=list(inflate)\n",
    "                    newcode.extend([ pair[1], pair[0]])\n",
    "                    one_piercings.append(newcode)\n",
    "        return zero_piercings+one_piercings"
   ]
  },
  {
   "cell_type": "markdown",
   "metadata": {
    "collapsed": false
   },
   "source": [
    "For instance, here are all inductively pierced neural codes on 3 neurons. "
   ]
  },
  {
   "cell_type": "code",
   "execution_count": 6,
   "metadata": {
    "collapsed": false
   },
   "outputs": [
    {
     "data": {
      "text/plain": [
       "[[[0, 0, 0], [1, 0, 0], [0, 1, 0], [0, 0, 1]],\n",
       " [[0, 0, 0], [1, 0, 0], [0, 1, 0], [1, 0, 1]],\n",
       " [[0, 0, 0], [1, 0, 0], [0, 1, 0], [0, 1, 1]],\n",
       " [[0, 0, 0], [1, 0, 0], [1, 1, 0], [0, 0, 1]],\n",
       " [[0, 0, 0], [1, 0, 0], [1, 1, 0], [1, 0, 1]],\n",
       " [[0, 0, 0], [1, 0, 0], [1, 1, 0], [1, 1, 1]],\n",
       " [[0, 0, 0], [1, 0, 0], [0, 1, 0], [1, 1, 0], [0, 0, 1]],\n",
       " [[0, 0, 0], [1, 0, 0], [0, 1, 0], [1, 1, 0], [1, 0, 1]],\n",
       " [[0, 0, 0], [1, 0, 0], [0, 1, 0], [1, 1, 0], [0, 1, 1]],\n",
       " [[0, 0, 0], [1, 0, 0], [0, 1, 0], [1, 1, 0], [1, 1, 1]],\n",
       " [[0, 0, 0], [1, 0, 0], [0, 1, 0], [0, 0, 1], [1, 0, 1]],\n",
       " [[0, 0, 0], [1, 0, 0], [0, 1, 0], [0, 0, 1], [0, 1, 1]],\n",
       " [[0, 0, 0], [1, 0, 0], [1, 1, 0], [0, 0, 1], [1, 0, 1]],\n",
       " [[0, 0, 0], [1, 0, 0], [1, 1, 0], [1, 0, 1], [1, 1, 1]],\n",
       " [[0, 0, 0], [1, 0, 0], [0, 1, 0], [1, 1, 0], [0, 0, 1], [1, 0, 1]],\n",
       " [[0, 0, 0], [1, 0, 0], [0, 1, 0], [1, 1, 0], [0, 1, 1], [1, 1, 1]],\n",
       " [[0, 0, 0], [1, 0, 0], [0, 1, 0], [1, 1, 0], [0, 0, 1], [0, 1, 1]],\n",
       " [[0, 0, 0], [1, 0, 0], [0, 1, 0], [1, 1, 0], [1, 0, 1], [1, 1, 1]]]"
      ]
     },
     "execution_count": 6,
     "metadata": {
     },
     "output_type": "execute_result"
    }
   ],
   "source": [
    "make_induct_one_pierced(3)"
   ]
  },
  {
   "cell_type": "markdown",
   "metadata": {
    "collapsed": false
   },
   "source": [
    "Now, we want to comptue the toric ideals of all of our one pierced codes, their Groebner bases in our term order, and the maximum degree of their Groebner basis in any term order. We do this with the function make_table_toric_degrees(code_list). In order for the default lexicographic order used by sage to agree with our term order, we first reverse the codes.  "
   ]
  },
  {
   "cell_type": "code",
   "execution_count": 10,
   "metadata": {
    "collapsed": false
   },
   "outputs": [
   ],
   "source": [
    "def reverse_code(code):\n",
    "    results = [code[0]]\n",
    "    for i in range (0, len(code)-1):\n",
    "        results.append(code[len(code)-1-i])\n",
    "    return results \n",
    "def make_table_toric_degrees(code_list):\n",
    "    matrices = []\n",
    "    toric_ideals = []\n",
    "    nice_formatting =[]\n",
    "    clean = []\n",
    "    for code in code_list:\n",
    "        mat=matrix(reverse_code(code)[1:]).transpose()\n",
    "        toric_ideal=ToricIdeal(mat, make_variable_names_from_matrix(mat)) \n",
    "        toric_ideals.append(toric_ideal)\n",
    "        degrees = list(map(lambda x: x.degree(), toric_ideal.gens()))\n",
    "        if degrees !=[-1]:\n",
    "            clean.append([mat, toric_ideal.groebner_basis(), max(degrees)])\n",
    "    return table(clean)\n",
    "        "
   ]
  },
  {
   "cell_type": "code",
   "execution_count": 11,
   "metadata": {
    "collapsed": false
   },
   "outputs": [
    {
     "data": {
      "text/html": [
       "<div class=\"notruncate\">\n",
       "<table  class=\"table_form\">\n",
       "<tbody>\n",
       "<tr class =\"row-a\">\n",
       "<td><script type=\"math/tex\">\\left(\\begin{array}{rrrr}\n",
       "0 & 1 & 0 & 1 \\\\\n",
       "0 & 1 & 1 & 0 \\\\\n",
       "1 & 0 & 0 & 0\n",
       "\\end{array}\\right)</script></td>\n",
       "<td><script type=\"math/tex\">\\left[y_{010} y_{100} -  y_{110}\\right]</script></td>\n",
       "<td><script type=\"math/tex\">2</script></td>\n",
       "</tr>\n",
       "<tr class =\"row-b\">\n",
       "<td><script type=\"math/tex\">\\left(\\begin{array}{rrrr}\n",
       "1 & 1 & 0 & 1 \\\\\n",
       "0 & 1 & 1 & 0 \\\\\n",
       "1 & 0 & 0 & 0\n",
       "\\end{array}\\right)</script></td>\n",
       "<td><script type=\"math/tex\">\\left[y_{010} y_{100} -  y_{110}\\right]</script></td>\n",
       "<td><script type=\"math/tex\">2</script></td>\n",
       "</tr>\n",
       "<tr class =\"row-a\">\n",
       "<td><script type=\"math/tex\">\\left(\\begin{array}{rrrr}\n",
       "0 & 1 & 0 & 1 \\\\\n",
       "1 & 1 & 1 & 0 \\\\\n",
       "1 & 0 & 0 & 0\n",
       "\\end{array}\\right)</script></td>\n",
       "<td><script type=\"math/tex\">\\left[y_{010} y_{100} -  y_{110}\\right]</script></td>\n",
       "<td><script type=\"math/tex\">2</script></td>\n",
       "</tr>\n",
       "<tr class =\"row-b\">\n",
       "<td><script type=\"math/tex\">\\left(\\begin{array}{rrrr}\n",
       "1 & 1 & 0 & 1 \\\\\n",
       "1 & 1 & 1 & 0 \\\\\n",
       "1 & 0 & 0 & 0\n",
       "\\end{array}\\right)</script></td>\n",
       "<td><script type=\"math/tex\">\\left[y_{010} y_{100} -  y_{110}\\right]</script></td>\n",
       "<td><script type=\"math/tex\">2</script></td>\n",
       "</tr>\n",
       "<tr class =\"row-a\">\n",
       "<td><script type=\"math/tex\">\\left(\\begin{array}{rrrr}\n",
       "1 & 0 & 0 & 1 \\\\\n",
       "0 & 0 & 1 & 0 \\\\\n",
       "1 & 1 & 0 & 0\n",
       "\\end{array}\\right)</script></td>\n",
       "<td><script type=\"math/tex\">\\left[y_{001} y_{100} -  y_{101}\\right]</script></td>\n",
       "<td><script type=\"math/tex\">2</script></td>\n",
       "</tr>\n",
       "<tr class =\"row-b\">\n",
       "<td><script type=\"math/tex\">\\left(\\begin{array}{rrrr}\n",
       "0 & 0 & 0 & 1 \\\\\n",
       "1 & 0 & 1 & 0 \\\\\n",
       "1 & 1 & 0 & 0\n",
       "\\end{array}\\right)</script></td>\n",
       "<td><script type=\"math/tex\">\\left[y_{001} y_{010} -  y_{011}\\right]</script></td>\n",
       "<td><script type=\"math/tex\">2</script></td>\n",
       "</tr>\n",
       "<tr class =\"row-a\">\n",
       "<td><script type=\"math/tex\">\\left(\\begin{array}{rrrr}\n",
       "1 & 0 & 1 & 1 \\\\\n",
       "0 & 0 & 1 & 0 \\\\\n",
       "1 & 1 & 0 & 0\n",
       "\\end{array}\\right)</script></td>\n",
       "<td><script type=\"math/tex\">\\left[y_{001} y_{100} -  y_{101}\\right]</script></td>\n",
       "<td><script type=\"math/tex\">2</script></td>\n",
       "</tr>\n",
       "<tr class =\"row-b\">\n",
       "<td><script type=\"math/tex\">\\left(\\begin{array}{rrrr}\n",
       "1 & 1 & 1 & 1 \\\\\n",
       "1 & 0 & 1 & 0 \\\\\n",
       "1 & 1 & 0 & 0\n",
       "\\end{array}\\right)</script></td>\n",
       "<td><script type=\"math/tex\">\\left[y_{101} y_{110} -  y_{111} y_{100}\\right]</script></td>\n",
       "<td><script type=\"math/tex\">2</script></td>\n",
       "</tr>\n",
       "<tr class =\"row-a\">\n",
       "<td><script type=\"math/tex\">\\left(\\begin{array}{rrrrr}\n",
       "1 & 0 & 1 & 0 & 1 \\\\\n",
       "0 & 0 & 1 & 1 & 0 \\\\\n",
       "1 & 1 & 0 & 0 & 0\n",
       "\\end{array}\\right)</script></td>\n",
       "<td><script type=\"math/tex\">\\left[y_{001} y_{110} -  y_{101} y_{010}, y_{001} y_{100} -  y_{101}, y_{010} y_{100} -  y_{110}\\right]</script></td>\n",
       "<td><script type=\"math/tex\">2</script></td>\n",
       "</tr>\n",
       "<tr class =\"row-b\">\n",
       "<td><script type=\"math/tex\">\\left(\\begin{array}{rrrrr}\n",
       "1 & 0 & 1 & 0 & 1 \\\\\n",
       "1 & 1 & 1 & 1 & 0 \\\\\n",
       "1 & 1 & 0 & 0 & 0\n",
       "\\end{array}\\right)</script></td>\n",
       "<td><script type=\"math/tex\">\\left[y_{011} y_{110} -  y_{111} y_{010}, y_{011} y_{100} -  y_{111}, y_{010} y_{100} -  y_{110}\\right]</script></td>\n",
       "<td><script type=\"math/tex\">2</script></td>\n",
       "</tr>\n",
       "<tr class =\"row-a\">\n",
       "<td><script type=\"math/tex\">\\left(\\begin{array}{rrrrr}\n",
       "0 & 0 & 1 & 0 & 1 \\\\\n",
       "1 & 0 & 1 & 1 & 0 \\\\\n",
       "1 & 1 & 0 & 0 & 0\n",
       "\\end{array}\\right)</script></td>\n",
       "<td><script type=\"math/tex\">\\left[y_{001} y_{110} -  y_{011} y_{100}, y_{001} y_{010} -  y_{011}, y_{010} y_{100} -  y_{110}\\right]</script></td>\n",
       "<td><script type=\"math/tex\">2</script></td>\n",
       "</tr>\n",
       "<tr class =\"row-b\">\n",
       "<td><script type=\"math/tex\">\\left(\\begin{array}{rrrrr}\n",
       "1 & 1 & 1 & 0 & 1 \\\\\n",
       "1 & 0 & 1 & 1 & 0 \\\\\n",
       "1 & 1 & 0 & 0 & 0\n",
       "\\end{array}\\right)</script></td>\n",
       "<td><script type=\"math/tex\">\\left[y_{101} y_{110} -  y_{111} y_{100}, y_{101} y_{010} -  y_{111}, y_{010} y_{100} -  y_{110}\\right]</script></td>\n",
       "<td><script type=\"math/tex\">2</script></td>\n",
       "</tr>\n",
       "</tbody>\n",
       "</table>\n",
       "</div>"
      ]
     },
     "execution_count": 11,
     "metadata": {
     },
     "output_type": "execute_result"
    }
   ],
   "source": [
    "make_table_toric_degrees(make_induct_one_pierced(3))"
   ]
  }
 ],
 "metadata": {
  "kernelspec": {
   "display_name": "SageMath (stable)",
   "name": "sagemath"
  },
  "language_info": {
   "codemirror_mode": {
    "name": "ipython",
    "version": 2
   },
   "file_extension": ".py",
   "mimetype": "text/x-python",
   "name": "python",
   "nbconvert_exporter": "python",
   "pygments_lexer": "ipython2",
   "version": "2.7.15"
  }
 },
 "nbformat": 4,
 "nbformat_minor": 0
}